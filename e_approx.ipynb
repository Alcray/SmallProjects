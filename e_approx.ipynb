{
  "nbformat": 4,
  "nbformat_minor": 0,
  "metadata": {
    "colab": {
      "name": "e_approx.ipynb",
      "provenance": []
    },
    "kernelspec": {
      "name": "python3",
      "display_name": "Python 3"
    }
  },
  "cells": [
    {
      "cell_type": "code",
      "metadata": {
        "id": "NBI4imlisQ4Q"
      },
      "source": [
        "import numpy as np\n",
        "import math"
      ],
      "execution_count": null,
      "outputs": []
    },
    {
      "cell_type": "code",
      "metadata": {
        "id": "cJxM4skns7tZ"
      },
      "source": [
        "def solve_n(e):\n",
        "  i = 1\n",
        "  n = 1\n",
        "  while True:\n",
        "    if n * math.factorial(n) >= 1/e:\n",
        "      return n\n",
        "    n += 1"
      ],
      "execution_count": null,
      "outputs": []
    },
    {
      "cell_type": "code",
      "metadata": {
        "id": "12DmfqqQsTa7",
        "outputId": "9aee538b-aa90-45aa-dc8d-a91add8c846f",
        "colab": {
          "base_uri": "https://localhost:8080/",
          "height": 50
        }
      },
      "source": [
        "# give an epsilon a number like this: 0.000001, include as many 0's after coma as much symbols you want to get correct\n",
        "epsilon = 0.00001\n",
        "n = solve_n(epsilon)\n",
        "e = 0\n",
        "for i in range(0, n):\n",
        "  e += 1/math.factorial(i)\n",
        "print(e)"
      ],
      "execution_count": null,
      "outputs": [
        {
          "output_type": "stream",
          "text": [
            "8\n",
            "2.7182539682539684\n"
          ],
          "name": "stdout"
        }
      ]
    },
    {
      "cell_type": "code",
      "metadata": {
        "id": "BZvCzOVZtypd",
        "outputId": "afde9ae0-ff69-4f41-e5be-ee8ae1ce4cb1",
        "colab": {
          "base_uri": "https://localhost:8080/",
          "height": 34
        }
      },
      "source": [
        "math.e"
      ],
      "execution_count": null,
      "outputs": [
        {
          "output_type": "execute_result",
          "data": {
            "text/plain": [
              "2.718281828459045"
            ]
          },
          "metadata": {
            "tags": []
          },
          "execution_count": 18
        }
      ]
    }
  ]
}